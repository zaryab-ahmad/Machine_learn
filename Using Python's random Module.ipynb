{
 "cells": [
  {
   "cell_type": "markdown",
   "id": "c6e7a87a",
   "metadata": {},
   "source": [
    "### Overview of the random Module\n",
    "The random module in Python is used to generate random numbers and perform `random` operations. It's <br>part of the standard library, so you don't need to install anything extra to use it.\n",
    "\n",
    "#### Importing the random Module\n",
    "To use the `random` module, you need to import it:"
   ]
  },
  {
   "cell_type": "code",
   "execution_count": 1,
   "id": "b735f1ff",
   "metadata": {},
   "outputs": [],
   "source": [
    "import random"
   ]
  },
  {
   "cell_type": "markdown",
   "id": "afd531bb",
   "metadata": {},
   "source": [
    "## Generating Random Numbers\n",
    "`random.random()`\n",
    "#### Description:\n",
    "Generates a random float number between 0.0 and 1.0"
   ]
  },
  {
   "cell_type": "code",
   "execution_count": 2,
   "id": "a34f5617",
   "metadata": {},
   "outputs": [
    {
     "name": "stdout",
     "output_type": "stream",
     "text": [
      "0.8419441263728094\n"
     ]
    }
   ],
   "source": [
    "import random\n",
    "\n",
    "print(random."
   ]
  },
  {
   "cell_type": "markdown",
   "id": "d5a1d0f6",
   "metadata": {},
   "source": [
    "`random.randint(a, b)`\n",
    "#### Description: \n",
    "Generates a random integer between` a `and` b` (inclusive)."
   ]
  },
  {
   "cell_type": "code",
   "execution_count": 38,
   "id": "6f33c7b7",
   "metadata": {},
   "outputs": [
    {
     "name": "stdout",
     "output_type": "stream",
     "text": [
      "92\n"
     ]
    }
   ],
   "source": [
    "print(random.randint(90, 100))"
   ]
  },
  {
   "cell_type": "markdown",
   "id": "dfba46b4",
   "metadata": {},
   "source": [
    "`random.uniform(a, b)`\n",
    "#### Description:\n",
    "Generates a random `float` number between `a and b.`"
   ]
  },
  {
   "cell_type": "code",
   "execution_count": 40,
   "id": "961f497f",
   "metadata": {},
   "outputs": [
    {
     "name": "stdout",
     "output_type": "stream",
     "text": [
      "6.84973913392139\n"
     ]
    }
   ],
   "source": [
    "print(random.uniform(5.5, 10.5))"
   ]
  },
  {
   "cell_type": "markdown",
   "id": "a50d7638",
   "metadata": {},
   "source": [
    "## Selecting Random Elements\n",
    "`random.choice(seq)`\n",
    "##### Description:\n",
    "Chooses a random element from a non-empty sequence."
   ]
  },
  {
   "cell_type": "code",
   "execution_count": 69,
   "id": "c8a7418e",
   "metadata": {},
   "outputs": [
    {
     "name": "stdout",
     "output_type": "stream",
     "text": [
      "c\n"
     ]
    }
   ],
   "source": [
    "string = [\"a\",\"b\",\"c\"]\n",
    "print(random.choice(string))"
   ]
  },
  {
   "cell_type": "markdown",
   "id": "b39bd22f",
   "metadata": {},
   "source": [
    "`random.sample(population, k)`\n",
    "#### Description:\n",
    "Returns a `list` of k unique elements chosen `from` the population sequence."
   ]
  },
  {
   "cell_type": "code",
   "execution_count": 76,
   "id": "b5034211",
   "metadata": {},
   "outputs": [
    {
     "name": "stdout",
     "output_type": "stream",
     "text": [
      "range(250, 300)\n",
      "[271, 254, 282, 265, 267, 292, 281, 263, 284, 258, 286, 289, 280, 296, 287, 276, 262, 256, 297, 299, 294, 261, 279, 277, 264, 273, 251, 285, 270, 272, 253, 274, 283, 260, 269, 288, 275, 291, 290, 257, 252, 293, 259, 266, 295, 268, 250, 298, 255, 278]\n"
     ]
    }
   ],
   "source": [
    "numbers = range(250, 300)\n",
    "print(numbers)\n",
    "print(random.sample(numbers, 50))"
   ]
  },
  {
   "cell_type": "markdown",
   "id": "f7aeb454",
   "metadata": {},
   "source": [
    "`random.shuffle(seq)`\n",
    "### Description: \n",
    "Shuffles the sequence `in` place."
   ]
  },
  {
   "cell_type": "code",
   "execution_count": 8,
   "id": "e7b521f8",
   "metadata": {},
   "outputs": [
    {
     "name": "stdout",
     "output_type": "stream",
     "text": [
      "[1, 2, 3, 4, 5, 6, 7, 8, 9, 10, 11, 12, 13, 14, 15, 16, 17, 18, 19, 20, 21, 22, 23, 24, 25, 26, 27, 28, 29, 30, 31, 32, 33, 34, 35, 36, 37, 38, 39, 40, 41, 42, 43, 44, 45, 46, 47, 48, 49, 50, 51, 52]\n",
      "[11, 22, 26, 44, 52, 10, 42, 41, 28, 21, 45, 24, 9, 29, 7, 25, 49, 8, 32, 12, 19, 1, 48, 6, 34, 23, 47, 37, 39, 31, 51, 50, 4, 18, 38, 5, 16, 20, 35, 27, 3, 40, 43, 17, 36, 33, 30, 2, 15, 13, 46, 14]\n"
     ]
    }
   ],
   "source": [
    "deck = list(range(1, 53))\n",
    "print(deck)\n",
    "random.shuffle(deck)\n",
    "print(deck)"
   ]
  },
  {
   "cell_type": "markdown",
   "id": "744a9b3a",
   "metadata": {},
   "source": [
    "### Generating Random Data with Specific Distributions\n",
    "`random.gauss(mu, sigma)`\n",
    "#### Description: \n",
    "Generates a random `float` number based on the Gaussian distribution with mean mu and standard deviation sigma."
   ]
  },
  {
   "cell_type": "code",
   "execution_count": 78,
   "id": "5b88e52e",
   "metadata": {},
   "outputs": [
    {
     "name": "stdout",
     "output_type": "stream",
     "text": [
      "-2.056486816426912\n"
     ]
    }
   ],
   "source": [
    "print(random.gauss(1, 3))"
   ]
  },
  {
   "cell_type": "markdown",
   "id": "812b74be",
   "metadata": {},
   "source": [
    "`random.expovariate(lambda)`\n",
    "### Description: \n",
    "Generates a random `float` number based on the exponential distribution with rate parameter lambda."
   ]
  },
  {
   "cell_type": "code",
   "execution_count": 81,
   "id": "ab9566a1",
   "metadata": {},
   "outputs": [
    {
     "name": "stdout",
     "output_type": "stream",
     "text": [
      "0.019580518200515557\n"
     ]
    }
   ],
   "source": [
    "print(random.expovariate(5/1))"
   ]
  },
  {
   "cell_type": "markdown",
   "id": "43ea0557",
   "metadata": {},
   "source": [
    "### Seeding the Random Number Generator\n",
    "`random.seed(a)`\n",
    "#### Description: \n",
    "Initializes the `random` number generator with the `seed` a. This ensures reproducibility of random sequences."
   ]
  },
  {
   "cell_type": "code",
   "execution_count": 109,
   "id": "b7742d47",
   "metadata": {},
   "outputs": [
    {
     "name": "stdout",
     "output_type": "stream",
     "text": [
      "1\n",
      "2\n",
      "2\n",
      "6\n",
      "3\n",
      "5\n",
      "5\n",
      "10\n",
      "1\n",
      "2\n"
     ]
    }
   ],
   "source": [
    "random.seed(2)\n",
    "print(random.randint(1,10))\n",
    "print(random.randint(1,10))\n",
    "print(random.randint(1,10))\n",
    "print(random.randint(1,10))\n",
    "print(random.randint(1,10))\n",
    "print(random.randint(1,10))\n",
    "print(random.randint(1,10))\n",
    "print(random.randint(1,10))\n",
    "random.seed(2)\n",
    "print(random.randint(1,10))\n",
    "print(random.randint(1,10))"
   ]
  },
  {
   "cell_type": "markdown",
   "id": "0ed19263",
   "metadata": {},
   "source": [
    "## Practical Examples\n",
    "#### Example 1:\n",
    "Simulate a Dice Roll"
   ]
  },
  {
   "cell_type": "code",
   "execution_count": 130,
   "id": "490abef0",
   "metadata": {},
   "outputs": [
    {
     "name": "stdout",
     "output_type": "stream",
     "text": [
      "1\n"
     ]
    }
   ],
   "source": [
    "def roll_dice():\n",
    "    return random.randint(1, 6)\n",
    "\n",
    "print(roll_dice()) "
   ]
  },
  {
   "cell_type": "markdown",
   "id": "b4d1abf5",
   "metadata": {},
   "source": [
    "### Example 2:\n",
    "Shuffle a Deck of Cards and Draw 5 Cards"
   ]
  },
  {
   "cell_type": "code",
   "execution_count": 134,
   "id": "ed424274",
   "metadata": {},
   "outputs": [
    {
     "name": "stdout",
     "output_type": "stream",
     "text": [
      "[13, 5, 7, 8, 25]\n"
     ]
    }
   ],
   "source": [
    "deck = list(range(1, 53))\n",
    "random.shuffle(deck)\n",
    "hand = random.sample(deck, 5)\n",
    "print(hand)"
   ]
  },
  {
   "cell_type": "markdown",
   "id": "bba2d9d3",
   "metadata": {},
   "source": [
    "### Example 3:\n",
    "Generate a Random Password"
   ]
  },
  {
   "cell_type": "code",
   "execution_count": 283,
   "id": "7f1b1963",
   "metadata": {},
   "outputs": [
    {
     "name": "stdout",
     "output_type": "stream",
     "text": [
      "11813#34\n"
     ]
    }
   ],
   "source": [
    "\n",
    "import random\n",
    "\n",
    "def generate_password(length=8):\n",
    "    chars = \"1234567890\"+ \"#\"\n",
    "    password = ''\n",
    "    for _ in range(length):\n",
    "        password += random.choice(chars)\n",
    "    return password\n",
    "\n",
    "print(generate_password())\n"
   ]
  },
  {
   "cell_type": "code",
   "execution_count": null,
   "id": "65aeda18",
   "metadata": {},
   "outputs": [],
   "source": []
  },
  {
   "cell_type": "code",
   "execution_count": null,
   "id": "896c643a",
   "metadata": {},
   "outputs": [],
   "source": []
  }
 ],
 "metadata": {
  "kernelspec": {
   "display_name": "Python 3 (ipykernel)",
   "language": "python",
   "name": "python3"
  },
  "language_info": {
   "codemirror_mode": {
    "name": "ipython",
    "version": 3
   },
   "file_extension": ".py",
   "mimetype": "text/x-python",
   "name": "python",
   "nbconvert_exporter": "python",
   "pygments_lexer": "ipython3",
   "version": "3.11.3"
  }
 },
 "nbformat": 4,
 "nbformat_minor": 5
}
