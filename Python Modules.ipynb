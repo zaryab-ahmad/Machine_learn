{
 "cells": [
  {
   "cell_type": "markdown",
   "id": "cd56a219",
   "metadata": {},
   "source": [
    "# Python Modules"
   ]
  },
  {
   "cell_type": "markdown",
   "id": "672b52b2",
   "metadata": {},
   "source": [
    "### What is a Module?\n",
    "Consider a module to be the same as a code library.<br>\n",
    "A file containing a set of functions you want to include in your application.\n",
    "### Create a Module\n",
    "To create a module just save the code you want in a file with the file extension"
   ]
  },
  {
   "cell_type": "markdown",
   "id": "88bc4084",
   "metadata": {},
   "source": [
    "## Use a Module\n",
    "###### Now we can use the module we just created, by using the import statement:\n",
    "#### Example\n",
    "#### Import the module named mymodule, and call the greeting function:\n"
   ]
  },
  {
   "cell_type": "code",
   "execution_count": 53,
   "id": "1ce0c354",
   "metadata": {},
   "outputs": [
    {
     "name": "stdout",
     "output_type": "stream",
     "text": [
      "Student nameAhmad, student ID 12344\n",
      "50\n"
     ]
    }
   ],
   "source": [
    "import Mymodule4\n",
    "import Mymodule5\n",
    "\n",
    "std1 = Mymodule4.Student(\"Ahmad\",12344)\n",
    "print(std1.infro())\n",
    "\n",
    "\n",
    "sum_of_2_num = Mymodule5.add(20,30)\n",
    "\n",
    "print(sum_of_2_num)\n"
   ]
  },
  {
   "cell_type": "markdown",
   "id": "578d68bf",
   "metadata": {},
   "source": [
    "# Variables in Module\n",
    "The module can contain functions, as already described, but also variables of all types\n",
    "`(arrays, dictionaries, objects etc):`\n",
    "### Example\n",
    "Save this code in the file mymodule.py"
   ]
  },
  {
   "cell_type": "markdown",
   "id": "1713d1a8",
   "metadata": {},
   "source": [
    "person1 = {\n",
    " \"name\": \"zaryab\",\n",
    " \"age\": 36,\n",
    " \"country\": \"pakistan\"\n",
    "}\n"
   ]
  },
  {
   "cell_type": "code",
   "execution_count": 47,
   "id": "31dd70a5",
   "metadata": {},
   "outputs": [
    {
     "ename": "KeyError",
     "evalue": "'Phone'",
     "output_type": "error",
     "traceback": [
      "\u001b[1;31m---------------------------------------------------------------------------\u001b[0m",
      "\u001b[1;31mKeyError\u001b[0m                                  Traceback (most recent call last)",
      "Cell \u001b[1;32mIn[47], line 2\u001b[0m\n\u001b[0;32m      1\u001b[0m \u001b[38;5;28;01mimport\u001b[39;00m \u001b[38;5;21;01mMymodule3\u001b[39;00m\n\u001b[1;32m----> 2\u001b[0m a \u001b[38;5;241m=\u001b[39m Mymodule3\u001b[38;5;241m.\u001b[39mperson1[\u001b[38;5;124m\"\u001b[39m\u001b[38;5;124mPhone\u001b[39m\u001b[38;5;124m\"\u001b[39m]\n\u001b[0;32m      4\u001b[0m \u001b[38;5;28mprint\u001b[39m(a)\n",
      "\u001b[1;31mKeyError\u001b[0m: 'Phone'"
     ]
    }
   ],
   "source": [
    "import Mymodule3\n",
    "a = Mymodule3.person1[\"Phone\"]\n",
    "\n",
    "print(a)\n",
    "\n"
   ]
  },
  {
   "cell_type": "markdown",
   "id": "159cd4f3",
   "metadata": {},
   "source": [
    "Naming a Module\n",
    "You can name the module file whatever you like, but it must have the file\n",
    "extension .py\n",
    "Re-naming a Module\n",
    "You can create an alias when you import a module, by using the as keyword:\n",
    "Example\n",
    "Create an alias for mymodule called mx:\n"
   ]
  },
  {
   "cell_type": "code",
   "execution_count": 51,
   "id": "bdd4ec8c",
   "metadata": {},
   "outputs": [
    {
     "name": "stdout",
     "output_type": "stream",
     "text": [
      "Pakistan\n"
     ]
    }
   ],
   "source": [
    "import Mymodule3 as mx\n",
    "a = mx.person1[\"country\"]\n",
    "print(a)"
   ]
  },
  {
   "cell_type": "code",
   "execution_count": 55,
   "id": "94b27e74",
   "metadata": {},
   "outputs": [
    {
     "name": "stdout",
     "output_type": "stream",
     "text": [
      "{'name': 'ahmad', 'id': 12}\n"
     ]
    }
   ],
   "source": [
    "import Dict  as d\n",
    "\n",
    "std = d.StudentInfor(name= \"ahmad\" , id = 12)\n",
    "print(std)"
   ]
  },
  {
   "cell_type": "code",
   "execution_count": null,
   "id": "ebadd657",
   "metadata": {},
   "outputs": [],
   "source": []
  }
 ],
 "metadata": {
  "kernelspec": {
   "display_name": "Python 3 (ipykernel)",
   "language": "python",
   "name": "python3"
  },
  "language_info": {
   "codemirror_mode": {
    "name": "ipython",
    "version": 3
   },
   "file_extension": ".py",
   "mimetype": "text/x-python",
   "name": "python",
   "nbconvert_exporter": "python",
   "pygments_lexer": "ipython3",
   "version": "3.11.3"
  }
 },
 "nbformat": 4,
 "nbformat_minor": 5
}
