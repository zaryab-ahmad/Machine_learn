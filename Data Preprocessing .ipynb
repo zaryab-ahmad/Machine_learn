{
 "cells": [
  {
   "cell_type": "markdown",
   "id": "f01ae7a0",
   "metadata": {},
   "source": [
    "# This is the implementation of the AI subject with code."
   ]
  },
  {
   "cell_type": "markdown",
   "id": "253bcf86",
   "metadata": {},
   "source": [
    "import the libraries  for the work \n",
    "1. numpy \n",
    "2. matplotlib\n",
    "3. pandas\n"
   ]
  },
  {
   "cell_type": "code",
   "execution_count": 3,
   "id": "5bf9b668",
   "metadata": {},
   "outputs": [
    {
     "name": "stdout",
     "output_type": "stream",
     "text": [
      "[['pakistan' 18.0 2000.0]\n",
      " ['afghanistan' 19.0 2000.0]\n",
      " ['bangal' 20.0 2100.0]\n",
      " ['india' 50.0 2300.0]\n",
      " ['france' nan 2900.0]\n",
      " ['england' 16.0 nan]]\n",
      "['yes ' 'no' 'yes ' 'yes ' 'yes ' 'no']\n",
      "       Country   age   salry parchase\n",
      "0     pakistan  18.0  2000.0     yes \n",
      "1  afghanistan  19.0  2000.0       no\n",
      "2       bangal  20.0  2100.0     yes \n",
      "3        india  50.0  2300.0     yes \n",
      "4       france   NaN  2900.0     yes \n",
      "5      england  16.0     NaN       no\n",
      "[['pakistan' 18.0 2000.0]\n",
      " ['afghanistan' 19.0 2000.0]\n",
      " ['bangal' 20.0 2100.0]\n",
      " ['india' 50.0 2300.0]\n",
      " ['france' 24.6 2900.0]\n",
      " ['england' 16.0 2260.0]]\n",
      "[[0.0 0.0 0.0 0.0 0.0 1.0 18.0 2000.0]\n",
      " [1.0 0.0 0.0 0.0 0.0 0.0 19.0 2000.0]\n",
      " [0.0 1.0 0.0 0.0 0.0 0.0 20.0 2100.0]\n",
      " [0.0 0.0 0.0 0.0 1.0 0.0 50.0 2300.0]\n",
      " [0.0 0.0 0.0 1.0 0.0 0.0 24.6 2900.0]\n",
      " [0.0 0.0 1.0 0.0 0.0 0.0 16.0 2260.0]]\n",
      "[1 0 1 1 1 0]\n",
      "[[0.0 0.0 0.0 0.0 0.0 1.0 18.0 2000.0]\n",
      " [1.0 0.0 0.0 0.0 0.0 0.0 19.0 2000.0]\n",
      " [0.0 1.0 0.0 0.0 0.0 0.0 20.0 2100.0]\n",
      " [0.0 0.0 0.0 0.0 1.0 0.0 50.0 2300.0]\n",
      " [0.0 0.0 0.0 1.0 0.0 0.0 24.6 2900.0]\n",
      " [0.0 0.0 1.0 0.0 0.0 0.0 16.0 2260.0]] [1 0 1 1 1 0]\n"
     ]
    }
   ],
   "source": [
    "import numpy as np\n",
    "import matplotlib.pyplot as plt\n",
    "import pandas as pd\n",
    "\n",
    "path = \"Book1.csv\"\n",
    "dataset = pd.read_csv(path)\n",
    "dataset\n",
    "\n",
    "X = dataset.iloc[:,:-1].values\n",
    "Y = dataset.iloc[:,-1].values\n",
    "print(X)\n",
    "print(Y)\n",
    "\n",
    "from sklearn.impute import SimpleImputer\n",
    "\n",
    "\n",
    "imputer =  SimpleImputer(missing_values= np.NaN,strategy=\"mean\")\n",
    "\n",
    "print(dataset)\n",
    "\n",
    "imputer.fit(X[:,1:3])\n",
    "X[:,1:3] = imputer.transform(X[:,1:3])\n",
    "print(X)\n",
    "\n",
    "from sklearn.compose import ColumnTransformer\n",
    "from sklearn.preprocessing import OneHotEncoder\n",
    "\n",
    "ct = ColumnTransformer(transformers=[('encoder',OneHotEncoder(),[0])], remainder='passthrough')\n",
    "\n",
    "X = np.array(ct.fit_transform(X))\n",
    "print(X)\n",
    "\n",
    "from sklearn.preprocessing import LabelEncoder\n",
    "\n",
    "le = LabelEncoder()\n",
    "y = le.fit_transform(Y)\n",
    "print(y)\n",
    "\n",
    "from sklearn.model_selection import train_test_split\n",
    "\n",
    "X_train , X_test , y_train , y_test = train_test_split(X,y,test_size= 0.2 , random_state = 1)\n",
    "\n",
    "print(X,y)\n",
    "\n"
   ]
  },
  {
   "cell_type": "code",
   "execution_count": null,
   "id": "0d7ae0ca",
   "metadata": {},
   "outputs": [],
   "source": []
  },
  {
   "cell_type": "code",
   "execution_count": 5,
   "id": "bfc5cc30",
   "metadata": {},
   "outputs": [
    {
     "name": "stdout",
     "output_type": "stream",
     "text": [
      "Accuracy: 0.5\n",
      "Classification Report:\n",
      "              precision    recall  f1-score   support\n",
      "\n",
      "           0       0.00      0.00      0.00         1\n",
      "           1       0.50      1.00      0.67         1\n",
      "\n",
      "    accuracy                           0.50         2\n",
      "   macro avg       0.25      0.50      0.33         2\n",
      "weighted avg       0.25      0.50      0.33         2\n",
      "\n"
     ]
    },
    {
     "name": "stderr",
     "output_type": "stream",
     "text": [
      "C:\\Users\\hp\\anaconda3\\Lib\\site-packages\\sklearn\\metrics\\_classification.py:1344: UndefinedMetricWarning: Precision and F-score are ill-defined and being set to 0.0 in labels with no predicted samples. Use `zero_division` parameter to control this behavior.\n",
      "  _warn_prf(average, modifier, msg_start, len(result))\n",
      "C:\\Users\\hp\\anaconda3\\Lib\\site-packages\\sklearn\\metrics\\_classification.py:1344: UndefinedMetricWarning: Precision and F-score are ill-defined and being set to 0.0 in labels with no predicted samples. Use `zero_division` parameter to control this behavior.\n",
      "  _warn_prf(average, modifier, msg_start, len(result))\n",
      "C:\\Users\\hp\\anaconda3\\Lib\\site-packages\\sklearn\\metrics\\_classification.py:1344: UndefinedMetricWarning: Precision and F-score are ill-defined and being set to 0.0 in labels with no predicted samples. Use `zero_division` parameter to control this behavior.\n",
      "  _warn_prf(average, modifier, msg_start, len(result))\n"
     ]
    }
   ],
   "source": [
    "from sklearn.linear_model import LogisticRegression\n",
    "from sklearn.metrics import accuracy_score, classification_report\n",
    "\n",
    "# Step 1: Choose a Machine Learning Algorithm\n",
    "model = LogisticRegression()\n",
    "\n",
    "# Step 2: Fit the Model to Training Data\n",
    "model.fit(X_train, y_train)\n",
    "\n",
    "# Step 3: Make Predictions\n",
    "y_pred = model.predict(X_test)\n",
    "\n",
    "# Step 4: Evaluate Model Performance\n",
    "accuracy = accuracy_score(y_test, y_pred)\n",
    "print(\"Accuracy:\", accuracy)\n",
    "\n",
    "# Additional Evaluation Metrics\n",
    "print(\"Classification Report:\")\n",
    "print(classification_report(y_test, y_pred))\n"
   ]
  },
  {
   "cell_type": "code",
   "execution_count": 6,
   "id": "718a6a98",
   "metadata": {},
   "outputs": [
    {
     "name": "stderr",
     "output_type": "stream",
     "text": [
      "C:\\Users\\hp\\anaconda3\\Lib\\site-packages\\sklearn\\metrics\\_classification.py:1344: UndefinedMetricWarning: Precision and F-score are ill-defined and being set to 0.0 in labels with no predicted samples. Use `zero_division` parameter to control this behavior.\n",
      "  _warn_prf(average, modifier, msg_start, len(result))\n",
      "C:\\Users\\hp\\anaconda3\\Lib\\site-packages\\sklearn\\metrics\\_classification.py:1344: UndefinedMetricWarning: Precision and F-score are ill-defined and being set to 0.0 in labels with no predicted samples. Use `zero_division` parameter to control this behavior.\n",
      "  _warn_prf(average, modifier, msg_start, len(result))\n",
      "C:\\Users\\hp\\anaconda3\\Lib\\site-packages\\sklearn\\metrics\\_classification.py:1344: UndefinedMetricWarning: Precision and F-score are ill-defined and being set to 0.0 in labels with no predicted samples. Use `zero_division` parameter to control this behavior.\n",
      "  _warn_prf(average, modifier, msg_start, len(result))\n"
     ]
    },
    {
     "data": {
      "image/png": "[encoded data removed]",
      "text/plain": [
       "<Figure size 1000x600 with 1 Axes>"
      ]
     },
     "metadata": {},
     "output_type": "display_data"
    }
   ],
   "source": [
    "# Step 1: Choose a Machine Learning Algorithm\n",
    "model = LogisticRegression()\n",
    "\n",
    "# Step 2: Fit the Model to Training Data\n",
    "model.fit(X_train, y_train)\n",
    "\n",
    "# Step 3: Make Predictions\n",
    "y_pred = model.predict(X_test)\n",
    "\n",
    "# Step 4: Evaluate Model Performance\n",
    "accuracy = accuracy_score(y_test, y_pred)\n",
    "classification_rep = classification_report(y_test, y_pred, output_dict=True)\n",
    "\n",
    "# Additional Evaluation Metrics\n",
    "precision = classification_rep['weighted avg']['precision']\n",
    "recall = classification_rep['weighted avg']['recall']\n",
    "f1_score = classification_rep['weighted avg']['f1-score']\n",
    "\n",
    "# Create a bar plot\n",
    "metrics = ['Accuracy', 'Precision', 'Recall', 'F1 Score']\n",
    "values = [accuracy, precision, recall, f1_score]\n",
    "\n",
    "plt.figure(figsize=(10, 6))\n",
    "plt.bar(metrics, values, color=['blue', 'green', 'orange', 'red'])\n",
    "plt.title('Model Evaluation Metrics')\n",
    "plt.xlabel('Metrics')\n",
    "plt.ylabel('Values')\n",
    "plt.show()"
   ]
  },
  {
   "cell_type": "markdown",
   "id": "24397142",
   "metadata": {},
   "source": [
    "Explanation with Details:\n",
    "<h5>\n",
    "\n",
    "<h1>Model Training:</h1>\n",
    "\n",
    "We initialize a logistic regression model using LogisticRegression() from scikit-learn.\n",
    "The model is then trained on the training data using model.fit(X_train, y_train), where X_train is the feature matrix of the training set and y_train is the corresponding target labels.\n",
    "<h1>Making Predictions:</h1>\n",
    "\n",
    "After training the model, we use it to make predictions on the test data with model.predict(X_test). The predicted labels are stored in y_pred.\n",
    "<h1>Model Evaluation: </h1>\n",
    "\n",
    "We compute the accuracy of the model using accuracy_score(y_test, y_pred) from scikit-learn. This function compares the predicted labels (y_pred) with the actual labels (y_test) and returns the accuracy.\n",
    "Additionally, we generate a classification report using classification_report(y_test, y_pred, output_dict=True) from scikit-learn. Setting output_dict to True returns the report as a dictionary, which allows us to extract precision, recall, and F1-score for further analysis.\n",
    "<h1>Creating a Bar Plot:</h1>\n",
    "\n",
    "To visualize the model evaluation metrics, we create a bar plot using matplotlib.\n",
    "We define a list metrics containing the names of the evaluation metrics ('Accuracy', 'Precision', 'Recall', 'F1 Score') and a corresponding list values containing their respective values.\n",
    "The plt.bar() function is used to create a bar plot with the specified metrics and values.\n",
    "We customize the plot by setting the figure size, title, x-label, and y-label using plt.figure(), plt.title(), plt.xlabel(), and plt.ylabel() functions, respectively.\n",
    "Finally, we display the plot using plt.show().\n",
    "This bar plot provides a visual representation of the model's performance across different evaluation metrics, making it easier to interpret and compare the results.\n",
    "\n",
    "\n",
    "\n",
    "\n",
    "\n",
    "\n"
   ]
  },
  {
   "cell_type": "code",
   "execution_count": 2,
   "id": "0ee16981",
   "metadata": {},
   "outputs": [],
   "source": [
    "import numpy as np\n",
    "import matplotlib.pyplot as plt\n",
    "import pandas as pd\n"
   ]
  },
  {
   "cell_type": "code",
   "execution_count": 44,
   "id": "b997be59",
   "metadata": {},
   "outputs": [
    {
     "data": {
      "text/html": [
       "<div>\n",
       "<style scoped>\n",
       "    .dataframe tbody tr th:only-of-type {\n",
       "        vertical-align: middle;\n",
       "    }\n",
       "\n",
       "    .dataframe tbody tr th {\n",
       "        vertical-align: top;\n",
       "    }\n",
       "\n",
       "    .dataframe thead th {\n",
       "        text-align: right;\n",
       "    }\n",
       "</style>\n",
       "<table border=\"1\" class=\"dataframe\">\n",
       "  <thead>\n",
       "    <tr style=\"text-align: right;\">\n",
       "      <th></th>\n",
       "      <th>Country</th>\n",
       "      <th>age</th>\n",
       "      <th>salry</th>\n",
       "      <th>parchase</th>\n",
       "    </tr>\n",
       "  </thead>\n",
       "  <tbody>\n",
       "    <tr>\n",
       "      <th>0</th>\n",
       "      <td>pakistan</td>\n",
       "      <td>18.0</td>\n",
       "      <td>2000.0</td>\n",
       "      <td>yes</td>\n",
       "    </tr>\n",
       "    <tr>\n",
       "      <th>1</th>\n",
       "      <td>afghanistan</td>\n",
       "      <td>19.0</td>\n",
       "      <td>2000.0</td>\n",
       "      <td>no</td>\n",
       "    </tr>\n",
       "    <tr>\n",
       "      <th>2</th>\n",
       "      <td>bangal</td>\n",
       "      <td>20.0</td>\n",
       "      <td>2100.0</td>\n",
       "      <td>yes</td>\n",
       "    </tr>\n",
       "    <tr>\n",
       "      <th>3</th>\n",
       "      <td>india</td>\n",
       "      <td>50.0</td>\n",
       "      <td>2300.0</td>\n",
       "      <td>yes</td>\n",
       "    </tr>\n",
       "    <tr>\n",
       "      <th>4</th>\n",
       "      <td>france</td>\n",
       "      <td>NaN</td>\n",
       "      <td>2900.0</td>\n",
       "      <td>yes</td>\n",
       "    </tr>\n",
       "    <tr>\n",
       "      <th>5</th>\n",
       "      <td>england</td>\n",
       "      <td>16.0</td>\n",
       "      <td>NaN</td>\n",
       "      <td>no</td>\n",
       "    </tr>\n",
       "  </tbody>\n",
       "</table>\n",
       "</div>"
      ],
      "text/plain": [
       "       Country   age   salry parchase\n",
       "0     pakistan  18.0  2000.0     yes \n",
       "1  afghanistan  19.0  2000.0       no\n",
       "2       bangal  20.0  2100.0     yes \n",
       "3        india  50.0  2300.0     yes \n",
       "4       france   NaN  2900.0     yes \n",
       "5      england  16.0     NaN       no"
      ]
     },
     "execution_count": 44,
     "metadata": {},
     "output_type": "execute_result"
    }
   ],
   "source": [
    "path = \"Book1.csv\"\n",
    "dataset = pd.read_csv(path)\n",
    "dataset"
   ]
  },
  {
   "cell_type": "code",
   "execution_count": 45,
   "id": "67ef7cf2",
   "metadata": {},
   "outputs": [
    {
     "name": "stdout",
     "output_type": "stream",
     "text": [
      "[['pakistan' 18.0 2000.0]\n",
      " ['afghanistan' 19.0 2000.0]\n",
      " ['bangal' 20.0 2100.0]\n",
      " ['india' 50.0 2300.0]\n",
      " ['france' nan 2900.0]\n",
      " ['england' 16.0 nan]]\n"
     ]
    },
    {
     "data": {
      "text/plain": [
       "array(['yes ', 'no', 'yes ', 'yes ', 'yes ', 'no'], dtype=object)"
      ]
     },
     "execution_count": 45,
     "metadata": {},
     "output_type": "execute_result"
    }
   ],
   "source": [
    "X = dataset.iloc[:,:-1].values\n",
    "Y = dataset.iloc[:,-1].values\n",
    "print(X)\n",
    "Y"
   ]
  },
  {
   "cell_type": "code",
   "execution_count": null,
   "id": "e2e38021",
   "metadata": {},
   "outputs": [],
   "source": []
  },
  {
   "cell_type": "markdown",
   "id": "95a63d2d",
   "metadata": {},
   "source": [
    "The miss values will be fill by nan by the compiler"
   ]
  },
  {
   "cell_type": "raw",
   "id": "e283b65a",
   "metadata": {},
   "source": [
    "now we will fill the missing data with the hepl of imputer \n",
    "import imputer"
   ]
  },
  {
   "cell_type": "code",
   "execution_count": 46,
   "id": "aaebce23",
   "metadata": {},
   "outputs": [],
   "source": [
    "from sklearn.impute import SimpleImputer\n"
   ]
  },
  {
   "cell_type": "code",
   "execution_count": 47,
   "id": "84b30cff",
   "metadata": {},
   "outputs": [
    {
     "data": {
      "text/html": [
       "<div>\n",
       "<style scoped>\n",
       "    .dataframe tbody tr th:only-of-type {\n",
       "        vertical-align: middle;\n",
       "    }\n",
       "\n",
       "    .dataframe tbody tr th {\n",
       "        vertical-align: top;\n",
       "    }\n",
       "\n",
       "    .dataframe thead th {\n",
       "        text-align: right;\n",
       "    }\n",
       "</style>\n",
       "<table border=\"1\" class=\"dataframe\">\n",
       "  <thead>\n",
       "    <tr style=\"text-align: right;\">\n",
       "      <th></th>\n",
       "      <th>Country</th>\n",
       "      <th>age</th>\n",
       "      <th>salry</th>\n",
       "      <th>parchase</th>\n",
       "    </tr>\n",
       "  </thead>\n",
       "  <tbody>\n",
       "    <tr>\n",
       "      <th>0</th>\n",
       "      <td>pakistan</td>\n",
       "      <td>18.0</td>\n",
       "      <td>2000.0</td>\n",
       "      <td>yes</td>\n",
       "    </tr>\n",
       "    <tr>\n",
       "      <th>1</th>\n",
       "      <td>afghanistan</td>\n",
       "      <td>19.0</td>\n",
       "      <td>2000.0</td>\n",
       "      <td>no</td>\n",
       "    </tr>\n",
       "    <tr>\n",
       "      <th>2</th>\n",
       "      <td>bangal</td>\n",
       "      <td>20.0</td>\n",
       "      <td>2100.0</td>\n",
       "      <td>yes</td>\n",
       "    </tr>\n",
       "    <tr>\n",
       "      <th>3</th>\n",
       "      <td>india</td>\n",
       "      <td>50.0</td>\n",
       "      <td>2300.0</td>\n",
       "      <td>yes</td>\n",
       "    </tr>\n",
       "    <tr>\n",
       "      <th>4</th>\n",
       "      <td>france</td>\n",
       "      <td>NaN</td>\n",
       "      <td>2900.0</td>\n",
       "      <td>yes</td>\n",
       "    </tr>\n",
       "    <tr>\n",
       "      <th>5</th>\n",
       "      <td>england</td>\n",
       "      <td>16.0</td>\n",
       "      <td>NaN</td>\n",
       "      <td>no</td>\n",
       "    </tr>\n",
       "  </tbody>\n",
       "</table>\n",
       "</div>"
      ],
      "text/plain": [
       "       Country   age   salry parchase\n",
       "0     pakistan  18.0  2000.0     yes \n",
       "1  afghanistan  19.0  2000.0       no\n",
       "2       bangal  20.0  2100.0     yes \n",
       "3        india  50.0  2300.0     yes \n",
       "4       france   NaN  2900.0     yes \n",
       "5      england  16.0     NaN       no"
      ]
     },
     "execution_count": 47,
     "metadata": {},
     "output_type": "execute_result"
    }
   ],
   "source": [
    "imputer =  SimpleImputer(missing_values= np.NaN,strategy=\"mean\")\n",
    "\n",
    "dataset"
   ]
  },
  {
   "cell_type": "markdown",
   "id": "439cc237",
   "metadata": {},
   "source": [
    "fit X in the Impute"
   ]
  },
  {
   "cell_type": "code",
   "execution_count": 48,
   "id": "f8eb5150",
   "metadata": {},
   "outputs": [
    {
     "name": "stdout",
     "output_type": "stream",
     "text": [
      "[['pakistan' 18.0 2000.0]\n",
      " ['afghanistan' 19.0 2000.0]\n",
      " ['bangal' 20.0 2100.0]\n",
      " ['india' 50.0 2300.0]\n",
      " ['france' 24.6 2900.0]\n",
      " ['england' 16.0 2260.0]]\n"
     ]
    }
   ],
   "source": [
    "imputer.fit(X[:,1:3])\n",
    "X[:,1:3] = imputer.transform(X[:,1:3])\n",
    "print(X)"
   ]
  },
  {
   "cell_type": "markdown",
   "id": "c2a0b95b",
   "metadata": {},
   "source": [
    "Now we need to convert the string data into 0,1 form."
   ]
  },
  {
   "cell_type": "code",
   "execution_count": 49,
   "id": "ce550708",
   "metadata": {},
   "outputs": [],
   "source": [
    "from sklearn.compose import ColumnTransformer\n",
    "from sklearn.preprocessing import OneHotEncoder\n"
   ]
  },
  {
   "cell_type": "markdown",
   "id": "3d3e4158",
   "metadata": {},
   "source": [
    "X test data: 20% of data use for the testing. dependent variables \n",
    "X train data: 80% of the data is use for the training the model.\n",
    "y test: \n",
    "y train:\n",
    "\n",
    "Now we will spite the data into train and test data.\n",
    "\n",
    "random state: if someone dievied the data into the test and train data, so we select the random that everytime the data change.\n",
    "\n",
    "Scale / normalization: for which well will used Stander Scaler. to reduce the values \n",
    "Lable encoder: its can write the catagolecal data in lable form.\n",
    "\n",
    "\n"
   ]
  },
  {
   "cell_type": "code",
   "execution_count": 50,
   "id": "c089eee3",
   "metadata": {},
   "outputs": [],
   "source": [
    "ct = ColumnTransformer(transformers=[('encoder',OneHotEncoder(),[0])], remainder='passthrough')"
   ]
  },
  {
   "cell_type": "code",
   "execution_count": 51,
   "id": "2dd3ba3a",
   "metadata": {},
   "outputs": [
    {
     "name": "stdout",
     "output_type": "stream",
     "text": [
      "[[0.0 0.0 0.0 0.0 0.0 1.0 18.0 2000.0]\n",
      " [1.0 0.0 0.0 0.0 0.0 0.0 19.0 2000.0]\n",
      " [0.0 1.0 0.0 0.0 0.0 0.0 20.0 2100.0]\n",
      " [0.0 0.0 0.0 0.0 1.0 0.0 50.0 2300.0]\n",
      " [0.0 0.0 0.0 1.0 0.0 0.0 24.6 2900.0]\n",
      " [0.0 0.0 1.0 0.0 0.0 0.0 16.0 2260.0]]\n"
     ]
    }
   ],
   "source": [
    "X = np.array(ct.fit_transform(X))\n",
    "print(X)"
   ]
  },
  {
   "cell_type": "code",
   "execution_count": 52,
   "id": "443cdf34",
   "metadata": {},
   "outputs": [],
   "source": [
    "from sklearn.preprocessing import LabelEncoder"
   ]
  },
  {
   "cell_type": "code",
   "execution_count": 53,
   "id": "cf379957",
   "metadata": {},
   "outputs": [
    {
     "name": "stdout",
     "output_type": "stream",
     "text": [
      "[1 0 1 1 1 0]\n"
     ]
    }
   ],
   "source": [
    "le = LabelEncoder()\n",
    "y = le.fit_transform(Y)\n",
    "print(y)"
   ]
  },
  {
   "cell_type": "code",
   "execution_count": 55,
   "id": "b365fe94",
   "metadata": {},
   "outputs": [],
   "source": [
    "from sklearn.model_selection import train_test_split"
   ]
  },
  {
   "cell_type": "code",
   "execution_count": 56,
   "id": "ca7b22a7",
   "metadata": {},
   "outputs": [],
   "source": [
    "X_train , X_test , y_train , y_test = train_test_split(X,y,test_size= 0.2 , random_state = 1)"
   ]
  },
  {
   "cell_type": "code",
   "execution_count": 57,
   "id": "d55494c5",
   "metadata": {},
   "outputs": [
    {
     "name": "stdout",
     "output_type": "stream",
     "text": [
      "[[0.0 0.0 0.0 0.0 0.0 1.0 18.0 2000.0]\n",
      " [1.0 0.0 0.0 0.0 0.0 0.0 19.0 2000.0]\n",
      " [0.0 1.0 0.0 0.0 0.0 0.0 20.0 2100.0]\n",
      " [0.0 0.0 0.0 0.0 1.0 0.0 50.0 2300.0]\n",
      " [0.0 0.0 0.0 1.0 0.0 0.0 24.6 2900.0]\n",
      " [0.0 0.0 1.0 0.0 0.0 0.0 16.0 2260.0]] [1 0 1 1 1 0]\n"
     ]
    }
   ],
   "source": [
    "print(X,y)"
   ]
  }
 ],
 "metadata": {
  "kernelspec": {
   "display_name": "Python 3 (ipykernel)",
   "language": "python",
   "name": "python3"
  },
  "language_info": {
   "codemirror_mode": {
    "name": "ipython",
    "version": 3
   },
   "file_extension": ".py",
   "mimetype": "text/x-python",
   "name": "python",
   "nbconvert_exporter": "python",
   "pygments_lexer": "ipython3",
   "version": "3.11.3"
  }
 },
 "nbformat": 4,
 "nbformat_minor": 5
}
